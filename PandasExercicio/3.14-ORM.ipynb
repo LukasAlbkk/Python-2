{
 "cells": [
  {
   "cell_type": "markdown",
   "metadata": {},
   "source": [
    "> Projeto Desenvolve <br>\n",
    "Programação Intermediária com Python <br>\n",
    "Profa. Camila Laranjeira (mila@projetodesenvolve.com.br) <br>\n",
    "\n",
    "# 3.14 - ORM"
   ]
  },
  {
   "cell_type": "markdown",
   "metadata": {},
   "source": [
    "## Exercícios\n",
    "\n",
    "#### Q1. Conhecendo os dados\n",
    "Baixe o seguinte csv onde iremos trabalhar. Ele contém informações sobre salários de profissionais de dados de uma empresa hipotética entre 2009 e 2016\n",
    "* https://github.com/camilalaranjeira/python-intermediario/blob/main/salaries.csv\n",
    "\n",
    "Suas colunas, descritas na [página do Kaggle que contém o dataset](https://www.kaggle.com/datasets/krishujeniya/salary-prediction-of-data-professions?resource=download), são:\n",
    "* FIRST NAME: Primeiro nome do profissional de dados (String)\n",
    "* LAST NAME: Sobrenome do profissional de dados (String)\n",
    "* SEX: Gênero do profissional de dados (String: 'F' para Feminino, 'M' para Masculino)\n",
    "* DOJ (Date of Joining): A data em que o profissional de dados ingressou na empresa (Data no formato MM/DD/AAAA)\n",
    "* CURRENT DATE: A data atual ou a data de referência dos dados (Data no formato MM/DD/AAAA)\n",
    "* DESIGNATION: O cargo ou designação do profissional de dados (String: ex., Analista, Analista Sênior, Gerente)\n",
    "* AGE: Idade do profissional de dados (Integer)\n",
    "* SALARY: Salário anual do profissional de dados (Float)\n",
    "* UNIT: Unidade de negócios ou departamento em que o profissional de dados trabalha (String: ex., TI, Finanças, Marketing)\n",
    "* LEAVES USED: Número de licenças utilizadas pelo profissional de dados (Integer)\n",
    "* LEAVES REMAINING: Número de licenças restantes para o profissional de dados (Integer)\n",
    "* RATINGS: Avaliações de desempenho do profissional de dados (Float)\n",
    "* PAST EXP: Experiência de trabalho anterior em anos antes de ingressar na empresa atual (Float)\n",
    "\n",
    "Na célula a seguir, **carregue os dados do CSV e dê uma olhada neles antes de seguir**."
   ]
  },
  {
   "cell_type": "code",
   "execution_count": 1,
   "metadata": {},
   "outputs": [
    {
     "name": "stdout",
     "output_type": "stream",
     "text": [
      "  FIRST NAME   LAST NAME SEX         DOJ CURRENT DATE DESIGNATION   AGE  \\\n",
      "0     TOMASA       ARMEN   F   5-18-2014   01-07-2016     Analyst  21.0   \n",
      "1      ANNIE         NaN   F         NaN   01-07-2016   Associate   NaN   \n",
      "2      OLIVE        ANCY   F   7-28-2014   01-07-2016     Analyst  21.0   \n",
      "3     CHERRY     AQUILAR   F  04-03-2013   01-07-2016     Analyst  22.0   \n",
      "4       LEON  ABOULAHOUD   M  11-20-2014   01-07-2016     Analyst   NaN   \n",
      "\n",
      "   SALARY        UNIT  LEAVES USED  LEAVES REMAINING  RATINGS  PAST EXP  \n",
      "0   44570     Finance         24.0               6.0      2.0         0  \n",
      "1   89207         Web          NaN              13.0      NaN         7  \n",
      "2   40955     Finance         23.0               7.0      3.0         0  \n",
      "3   45550          IT         22.0               8.0      3.0         0  \n",
      "4   43161  Operations         27.0               3.0      NaN         3  \n"
     ]
    }
   ],
   "source": [
    "### Escreva sua resposta aqui\n",
    "import pandas as pd\n",
    "\n",
    "file_path = 'salaries.csv'\n",
    "salaries_df = pd.read_csv(file_path)\n",
    "print(salaries_df.head())\n"
   ]
  },
  {
   "cell_type": "markdown",
   "metadata": {},
   "source": [
    "#### Q2. Modelando os dados\n",
    "Você deve **criar um ORM com SQLAlchemy capaz de comportar os dados dessa base**.\n",
    "\n",
    "* Crie um campo de chave primária `ID`, que deve ser incrementado automaticamente\n",
    "* Os campos SEX, DESIGNATION e UNIT devem ser definidos como classes `Enum` com os possíveis valores (consulte os valores únicos dessas colunas)\n",
    "* Para os outros campos, consulte os tipos de dados informados na descrição acima"
   ]
  },
  {
   "cell_type": "code",
   "execution_count": 5,
   "metadata": {},
   "outputs": [
    {
     "name": "stdout",
     "output_type": "stream",
     "text": [
      "Banco de dados e tabelas criados com sucesso!\n"
     ]
    }
   ],
   "source": [
    "from sqlalchemy import create_engine, Column, Integer, String, Float, Enum, Date\n",
    "from sqlalchemy.orm import declarative_base, sessionmaker\n",
    "import enum\n",
    "\n",
    "# Base do SQLAlchemy\n",
    "Base = declarative_base()\n",
    "\n",
    "# enums\n",
    "class SexEnum(enum.Enum):\n",
    "    M = 'M'\n",
    "    F = 'F'\n",
    "\n",
    "class DesignationEnum(enum.Enum):\n",
    "    Analyst = 'Analyst'\n",
    "    Associate = 'Associate'\n",
    "    Manager = 'Manager'\n",
    "    SeniorAnalyst = 'Senior Analyst'\n",
    "\n",
    "class UnitEnum(enum.Enum):\n",
    "    Finance = 'Finance'\n",
    "    Web = 'Web'\n",
    "    IT = 'IT'\n",
    "    Operations = 'Operations'\n",
    "    Marketing = 'Marketing'\n",
    "\n",
    "# Definindo a classe para o ORM\n",
    "class Salary(Base):\n",
    "    __tablename__ = 'salaries'\n",
    "    \n",
    "    id = Column(Integer, primary_key=True, autoincrement=True)\n",
    "    first_name = Column(String, nullable=False)\n",
    "    last_name = Column(String, nullable=True)\n",
    "    sex = Column(Enum(SexEnum), nullable=True)\n",
    "    doj = Column(Date, nullable=True)\n",
    "    current_date = Column(Date, nullable=True)\n",
    "    designation = Column(Enum(DesignationEnum), nullable=True)\n",
    "    age = Column(Float, nullable=True)\n",
    "    salary = Column(Float, nullable=False)\n",
    "    unit = Column(Enum(UnitEnum), nullable=True)\n",
    "    leaves_used = Column(Float, nullable=True)\n",
    "    leaves_remaining = Column(Float, nullable=True)\n",
    "    ratings = Column(Float, nullable=True)\n",
    "    past_exp = Column(Float, nullable=True)\n",
    "\n",
    "#SQLite e configurando a sessão\n",
    "engine = create_engine('sqlite:///salaries.db')\n",
    "Base.metadata.create_all(engine)\n",
    "Session = sessionmaker(bind=engine)\n",
    "session = Session()\n",
    "\n",
    "print(\"Banco de dados e tabelas criados com sucesso!\")\n"
   ]
  },
  {
   "cell_type": "markdown",
   "metadata": {
    "vscode": {
     "languageId": "plaintext"
    }
   },
   "source": [
    "#### Q3. Estabelecendo uma conexão\n",
    "\n",
    "Usando o método `create_engine` do SQLAlchemy, crie uma conexão com um novo banco de dados SQLite chamado `salarios`."
   ]
  },
  {
   "cell_type": "code",
   "execution_count": 7,
   "metadata": {},
   "outputs": [
    {
     "name": "stdout",
     "output_type": "stream",
     "text": [
      "Conexão com o banco de dados 'salarios.db' estabelecida com sucesso!\n"
     ]
    }
   ],
   "source": [
    "### Escreva sua resposta aqui\n",
    "engine = create_engine('sqlite:///salarios.db')\n",
    "print(\"Conexão com o banco de dados 'salarios.db' estabelecida com sucesso!\")\n"
   ]
  },
  {
   "cell_type": "markdown",
   "metadata": {},
   "source": [
    "#### Q4. Criando as tabelas\n",
    "Crie as tabelas da questão Q2 no banco `salarios`."
   ]
  },
  {
   "cell_type": "code",
   "execution_count": 8,
   "metadata": {},
   "outputs": [
    {
     "name": "stdout",
     "output_type": "stream",
     "text": [
      "Tabelas criadas com sucesso no banco 'salarios.db'!\n"
     ]
    }
   ],
   "source": [
    "### Escreva sua resposta aqui\n",
    "Base.metadata.create_all(engine)\n",
    "\n",
    "print(\"Tabelas criadas com sucesso no banco 'salarios.db'!\")"
   ]
  },
  {
   "cell_type": "markdown",
   "metadata": {},
   "source": [
    "#### Q5. Populando\n",
    "\n",
    "Usando o método `to_sql` da biblioteca Pandas (veja [a documentação](https://pandas.pydata.org/docs/reference/api/pandas.DataFrame.to_sql.html)), popule o banco `salarios` com os dados do csv que você carregou na questão Q1.\n",
    "* Lembre-se de definir o parâmetro `if_exists='append'` para que as tabelas não sejam dropadas e recriadas."
   ]
  },
  {
   "cell_type": "code",
   "execution_count": 12,
   "metadata": {},
   "outputs": [
    {
     "name": "stdout",
     "output_type": "stream",
     "text": [
      "Dados inseridos com sucesso no banco 'salarios.db'!\n"
     ]
    }
   ],
   "source": [
    "# Renomear as colunas do DataFrame para corresponder ao esquema do banco\n",
    "salaries_df.columns = [\n",
    "    'first_name', 'last_name', 'sex', 'doj', 'current_date', \n",
    "    'designation', 'age', 'salary', 'unit', \n",
    "    'leaves_used', 'leaves_remaining', 'ratings', 'past_exp'\n",
    "]\n",
    "\n",
    "# Inserir os dados do DataFrame na tabela 'salaries'\n",
    "salaries_df.to_sql('salaries', engine, if_exists='append', index=False)\n",
    "\n",
    "print(\"Dados inseridos com sucesso no banco 'salarios.db'!\")\n"
   ]
  },
  {
   "cell_type": "markdown",
   "metadata": {},
   "source": [
    "#### Q6. Consultas SQL vs ORM\n",
    "\n",
    "Agrupe os dados por DESIGNATION e selecione o mínimo, máximo e a média dos salários (SALARY) divididos por 12. Já que o atributo SALARY é anual, dividir por 12 nos mostrará os valores mensais.\n",
    "\n",
    "Assumindo que a variável que armazena a sua conexão se chama `engine`, você deve realizar a query acima de três formas:\n",
    "* Executando a query SQL através de uma instância de conexão retornada pelo método `engine.connect()`\n",
    "* Executando a query SQL com o método `read_sql_query` do Pandas (veja [a documentação](https://pandas.pydata.org/docs/reference/api/pandas.read_sql_query.html)). Você usará mesma instância `engine.connect()` como um dos parâmetros.\n",
    "* Executando uma query criada com o módulo `select` do SQLAlchemy. Sua execução deve ser feita através de um objeto `Session` do módulo `orm` do SQLAlchemy (`Session(engine)`).\n"
   ]
  },
  {
   "cell_type": "code",
   "execution_count": 13,
   "metadata": {},
   "outputs": [
    {
     "name": "stdout",
     "output_type": "stream",
     "text": [
      "('Analyst', 3333.4166666666665, 4165.0, 3751.675987685993)\n",
      "('Associate', 5846.166666666667, 8300.25, 7266.915094339623)\n",
      "('Director', 17832.25, 32342.666666666668, 23914.265625)\n",
      "('Manager', 8343.666666666666, 12407.5, 10522.716049382716)\n",
      "('Senior Analyst', 4170.333333333333, 5830.5, 4991.778792134832)\n",
      "('Senior Manager', 12614.416666666666, 16631.416666666668, 14888.689516129032)\n"
     ]
    }
   ],
   "source": [
    "from sqlalchemy import text\n",
    "\n",
    "# Criar a conexão\n",
    "connection = engine.connect()\n",
    "\n",
    "# Escrever e executar a query SQL\n",
    "query = text(\"\"\"\n",
    "    SELECT designation, \n",
    "           MIN(salary / 12) AS min_monthly_salary,\n",
    "           MAX(salary / 12) AS max_monthly_salary,\n",
    "           AVG(salary / 12) AS avg_monthly_salary\n",
    "    FROM salaries\n",
    "    GROUP BY designation\n",
    "\"\"\")\n",
    "\n",
    "# Executar a query e obter os resultados\n",
    "result = connection.execute(query)\n",
    "\n",
    "# Exibir os resultados\n",
    "for row in result:\n",
    "    print(row)\n",
    "\n",
    "# Fechar a conexão\n",
    "connection.close()\n"
   ]
  },
  {
   "cell_type": "code",
   "execution_count": 14,
   "metadata": {},
   "outputs": [
    {
     "name": "stdout",
     "output_type": "stream",
     "text": [
      "      designation  min_monthly_salary  max_monthly_salary  avg_monthly_salary\n",
      "0         Analyst         3333.416667         4165.000000         3751.675988\n",
      "1       Associate         5846.166667         8300.250000         7266.915094\n",
      "2        Director        17832.250000        32342.666667        23914.265625\n",
      "3         Manager         8343.666667        12407.500000        10522.716049\n",
      "4  Senior Analyst         4170.333333         5830.500000         4991.778792\n",
      "5  Senior Manager        12614.416667        16631.416667        14888.689516\n"
     ]
    }
   ],
   "source": [
    "### Execute aqui sua query SQL com SQLAlchemy + Pandas\n",
    "import pandas as pd\n",
    "\n",
    "# Escrever a query SQL\n",
    "query = \"\"\"\n",
    "    SELECT designation, \n",
    "           MIN(salary / 12) AS min_monthly_salary,\n",
    "           MAX(salary / 12) AS max_monthly_salary,\n",
    "           AVG(salary / 12) AS avg_monthly_salary\n",
    "    FROM salaries\n",
    "    GROUP BY designation\n",
    "\"\"\"\n",
    "\n",
    "# Executar a query usando Pandas\n",
    "df = pd.read_sql_query(query, engine)\n",
    "\n",
    "# Exibir o DataFrame\n",
    "print(df)\n"
   ]
  },
  {
   "cell_type": "code",
   "execution_count": 16,
   "metadata": {},
   "outputs": [
    {
     "name": "stdout",
     "output_type": "stream",
     "text": [
      "('Analyst', 3333.4166666666665, 4165.0, 3751.675987685993)\n",
      "('Associate', 5846.166666666667, 8300.25, 7266.915094339623)\n",
      "('Director', 17832.25, 32342.666666666668, 23914.265625)\n",
      "('Manager', 8343.666666666666, 12407.5, 10522.716049382716)\n",
      "('Senior Analyst', 4170.333333333333, 5830.5, 4991.778792134832)\n",
      "('Senior Manager', 12614.416666666666, 16631.416666666668, 14888.689516129032)\n"
     ]
    }
   ],
   "source": [
    "from sqlalchemy.orm import Session\n",
    "from sqlalchemy import func, cast, String\n",
    "\n",
    "# Criar a sessão\n",
    "session = Session(engine)\n",
    "\n",
    "# Construir a query ORM\n",
    "query = session.query(\n",
    "    cast(Salary.designation, String).label(\"designation\"),  # Ignorar o Enum\n",
    "    func.min(Salary.salary / 12).label(\"min_monthly_salary\"),\n",
    "    func.max(Salary.salary / 12).label(\"max_monthly_salary\"),\n",
    "    func.avg(Salary.salary / 12).label(\"avg_monthly_salary\")\n",
    ").group_by(Salary.designation)\n",
    "\n",
    "# Executar a query e exibir os resultados\n",
    "for row in query.all():\n",
    "    print(row)\n",
    "\n",
    "# Fechar a sessão\n",
    "session.close()\n"
   ]
  }
 ],
 "metadata": {
  "kernelspec": {
   "display_name": "Python 3",
   "language": "python",
   "name": "python3"
  },
  "language_info": {
   "codemirror_mode": {
    "name": "ipython",
    "version": 3
   },
   "file_extension": ".py",
   "mimetype": "text/x-python",
   "name": "python",
   "nbconvert_exporter": "python",
   "pygments_lexer": "ipython3",
   "version": "3.13.0"
  }
 },
 "nbformat": 4,
 "nbformat_minor": 2
}
